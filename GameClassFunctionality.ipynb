{
 "cells": [
  {
   "cell_type": "code",
   "execution_count": 1,
   "metadata": {},
   "outputs": [],
   "source": [
    "from copy import deepcopy\n",
    "\n",
    "xlim, ylim = 3, 2  # board dimensions\n",
    "\n",
    "class GameState:\n",
    "    \"\"\"\n",
    "    Attributes\n",
    "    ----------\n",
    "    _board: list(list)\n",
    "        Represent the board with a 2d array _board[x][y]\n",
    "        where open spaces are 0 and closed spaces are 1\n",
    "    \n",
    "    _parity: bool\n",
    "        Keep track of active player initiative (which\n",
    "        player has control to move) where 0 indicates that\n",
    "        player one has initiative and 1 indicates player 2\n",
    "    \n",
    "    _player_locations: list(tuple)\n",
    "        Keep track of the current location of each player\n",
    "        on the board where position is encoded by the\n",
    "        board indices of their last move, e.g., [(0, 0), (1, 0)]\n",
    "        means player 1 is at (0, 0) and player 2 is at (1, 0)\n",
    "    \n",
    "    \"\"\"\n",
    "\n",
    "    def __init__(self):\n",
    "        self._board = [[0] * ylim for _ in range(xlim)]\n",
    "        self._board[-1][-1] = 1  # block lower-right corner\n",
    "        self._parity = 0\n",
    "        self._player_locations = [None, None]\n",
    "\n",
    "    def forecast_move(self, move):\n",
    "        \"\"\" Return a new board object with the specified move\n",
    "        applied to the current game state.\n",
    "        \n",
    "        Parameters\n",
    "        ----------\n",
    "        move: tuple\n",
    "            The target position for the active player's next move\n",
    "        \"\"\"\n",
    "        if move not in self.get_legal_moves():\n",
    "            raise RuntimeError(\"Attempted forecast of illegal move\")\n",
    "        newBoard = deepcopy(self)\n",
    "        newBoard._board[move[0]][move[1]] = 1\n",
    "        newBoard._player_locations[self._parity] = move\n",
    "        newBoard._parity ^= 1\n",
    "        return newBoard\n",
    "\n",
    "    def get_legal_moves(self):\n",
    "        \"\"\" Return a list of all legal moves available to the\n",
    "        active player.  Each player should get a list of all\n",
    "        empty spaces on the board on their first move, and\n",
    "        otherwise they should get a list of all open spaces\n",
    "        in a straight line along any row, column or diagonal\n",
    "        from their current position. (Players CANNOT move\n",
    "        through obstacles or blocked squares.)\n",
    "        \"\"\"\n",
    "        loc = self._player_locations[self._parity]\n",
    "        if not loc:\n",
    "            return self._get_blank_spaces()\n",
    "        moves = []\n",
    "        rays = [(1, 0), (1, -1), (0, -1), (-1, -1),\n",
    "                (-1, 0), (-1, 1), (0, 1), (1, 1)]\n",
    "        for dx, dy in rays:\n",
    "            _x, _y = loc\n",
    "            while 0 <= _x + dx < xlim and 0 <= _y + dy < ylim:\n",
    "                _x, _y = _x + dx, _y + dy\n",
    "                if self._board[_x][_y]:\n",
    "                    break\n",
    "                moves.append((_x, _y))\n",
    "        return moves\n",
    "\n",
    "    def _get_blank_spaces(self):\n",
    "        \"\"\" Return a list of blank spaces on the board.\"\"\"\n",
    "        return [(x, y) for y in range(ylim) for x in range(xlim)\n",
    "                if self._board[x][y] == 0]\n"
   ]
  },
  {
   "cell_type": "code",
   "execution_count": null,
   "metadata": {},
   "outputs": [],
   "source": [
    "def get_legal_moves(self):\n",
    "    \"\"\" Return a list of all legal moves available to the\n",
    "    active player.  Each player should get a list of all\n",
    "    empty spaces on the board on their first move, and\n",
    "    otherwise they should get a list of all open spaces\n",
    "    in a straight line along any row, column or diagonal\n",
    "    from their current position. (Players CANNOT move\n",
    "    through obstacles or blocked squares.)\n",
    "    \"\"\"\n",
    "    loc = self._player_locations[self._parity]\n",
    "    if not loc:\n",
    "        return self._get_blank_spaces()\n",
    "    moves = []\n",
    "    rays = [(1, 0), (1, -1), (0, -1), (-1, -1),\n",
    "            (-1, 0), (-1, 1), (0, 1), (1, 1)]\n",
    "    for dx, dy in rays:\n",
    "        _x, _y = loc\n",
    "        while 0 <= _x + dx < xlim and 0 <= _y + dy < ylim:\n",
    "            _x, _y = _x + dx, _y + dy\n",
    "            if self._board[_x][_y]:\n",
    "                break\n",
    "            moves.append((_x, _y))\n",
    "    return moves"
   ]
  },
  {
   "cell_type": "code",
   "execution_count": 9,
   "metadata": {},
   "outputs": [
    {
     "data": {
      "text/plain": [
       "[(1, 0), (2, 0), (0, 1), (1, 1)]"
      ]
     },
     "execution_count": 9,
     "metadata": {},
     "output_type": "execute_result"
    }
   ],
   "source": [
    "p2_empty_moves"
   ]
  },
  {
   "cell_type": "code",
   "execution_count": null,
   "metadata": {},
   "outputs": [],
   "source": []
  }
 ],
 "metadata": {
  "kernelspec": {
   "display_name": "Python [conda env:aind]",
   "language": "python",
   "name": "conda-env-aind-py"
  },
  "language_info": {
   "codemirror_mode": {
    "name": "ipython",
    "version": 3
   },
   "file_extension": ".py",
   "mimetype": "text/x-python",
   "name": "python",
   "nbconvert_exporter": "python",
   "pygments_lexer": "ipython3",
   "version": "3.5.4"
  }
 },
 "nbformat": 4,
 "nbformat_minor": 2
}
