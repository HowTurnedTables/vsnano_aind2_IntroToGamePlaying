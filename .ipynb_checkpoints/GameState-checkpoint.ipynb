{
 "cells": [
  {
   "cell_type": "code",
   "execution_count": null,
   "metadata": {},
   "outputs": [],
   "source": [
    "# This is just one possible solution, there are many\n",
    "# other options that will work just as well or better \n",
    "\n",
    "\n",
    "xlim, ylim = 3, 2  # board dimension constants\n",
    "\n",
    "class GameState:\n",
    "    \"\"\"\n",
    "    Attributes\n",
    "    ----------\n",
    "    _board: list(list)\n",
    "        Represent the board with a 2d array _board[x][y]\n",
    "        where open spaces are 0 and closed spaces are 1\n",
    "        and a coordinate system where [0][0] is the top-\n",
    "        left corner, and x increases to the right while\n",
    "        y increases going down (this is an arbitrary\n",
    "        convention choice -- there are many other options\n",
    "        that are just as good)\n",
    "    \n",
    "    _parity: bool\n",
    "        Keep track of active player initiative (which\n",
    "        player has control to move) where 0 indicates that\n",
    "        player one has initiative and 1 indicates player two\n",
    "    \n",
    "    _player_locations: list(tuple)\n",
    "        Keep track of the current location of each player\n",
    "        on the board where position is encoded by the\n",
    "        board indices of their last move, e.g., [(0, 0), (1, 0)]\n",
    "        means player one is at (0, 0) and player two is at (1, 0)\n",
    "    \"\"\"\n",
    "    def __init__(self):\n",
    "        # single-underscore prefix on attribute names means\n",
    "        # that the attribute is \"private\" (Python doesn't truly\n",
    "        # support public/private members, so this is only a\n",
    "        # convention)\n",
    "        self._board = [[0] * ylim for _ in range(xlim)]\n",
    "        self._board[-1][-1] = 1  # block lower-right corner\n",
    "        self._parity = 0\n",
    "        self._player_locations = [None, None]\n"
   ]
  },
  {
   "cell_type": "code",
   "execution_count": 6,
   "metadata": {},
   "outputs": [],
   "source": [
    "xlim, ylim = 3, 2 "
   ]
  },
  {
   "cell_type": "code",
   "execution_count": 7,
   "metadata": {},
   "outputs": [
    {
     "data": {
      "text/plain": [
       "[[0, 0], [0, 0], [0, 0]]"
      ]
     },
     "execution_count": 7,
     "metadata": {},
     "output_type": "execute_result"
    }
   ],
   "source": [
    "board=[[0] * ylim for _ in range(xlim)]\n",
    "board"
   ]
  },
  {
   "cell_type": "code",
   "execution_count": 8,
   "metadata": {},
   "outputs": [
    {
     "data": {
      "text/plain": [
       "[[0, 0], [0, 0], [0, 1]]"
      ]
     },
     "execution_count": 8,
     "metadata": {},
     "output_type": "execute_result"
    }
   ],
   "source": [
    "board[-1][-1] = 1\n",
    "board"
   ]
  },
  {
   "cell_type": "code",
   "execution_count": null,
   "metadata": {},
   "outputs": [],
   "source": []
  }
 ],
 "metadata": {
  "kernelspec": {
   "display_name": "Python [conda env:aind]",
   "language": "python",
   "name": "conda-env-aind-py"
  },
  "language_info": {
   "codemirror_mode": {
    "name": "ipython",
    "version": 3
   },
   "file_extension": ".py",
   "mimetype": "text/x-python",
   "name": "python",
   "nbconvert_exporter": "python",
   "pygments_lexer": "ipython3",
   "version": "3.5.4"
  }
 },
 "nbformat": 4,
 "nbformat_minor": 2
}
